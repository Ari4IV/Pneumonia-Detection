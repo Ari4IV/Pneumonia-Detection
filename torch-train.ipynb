{
 "cells": [
  {
   "cell_type": "markdown",
   "metadata": {},
   "source": [
    "# 匯入套件"
   ]
  },
  {
   "cell_type": "code",
   "execution_count": 1,
   "metadata": {},
   "outputs": [],
   "source": [
    "import torch\n",
    "import torch.nn as nn\n",
    "import torch.nn.functional as F\n",
    "import torch.optim as optim\n",
    "import numpy as np\n",
    "import seaborn as sns\n",
    "import matplotlib.pyplot as plt\n",
    "import shap\n",
    "import pandas as pd\n",
    "\n",
    "from sklearn.metrics import classification_report\n",
    "from sklearn.metrics import confusion_matrix\n",
    "from sklearn.metrics import roc_curve, auc\n",
    "from sklearn.metrics import f1_score\n",
    "from torch.utils.data import DataLoader\n",
    "from torchvision import transforms, datasets\n",
    "from tqdm import tqdm\n",
    "\n",
    "from torchsummary import summary"
   ]
  },
  {
   "cell_type": "code",
   "execution_count": 2,
   "metadata": {},
   "outputs": [
    {
     "name": "stdout",
     "output_type": "stream",
     "text": [
      "cuda\n"
     ]
    }
   ],
   "source": [
    "# 檢查是否有可用的GPU，如果沒有，則使用CPU\n",
    "device = torch.device('cuda' if torch.cuda.is_available() else 'cpu')\n",
    "print(device) # 印出目前使用的設備"
   ]
  },
  {
   "cell_type": "markdown",
   "metadata": {},
   "source": [
    "# 資料預處理"
   ]
  },
  {
   "cell_type": "code",
   "execution_count": 3,
   "metadata": {},
   "outputs": [],
   "source": [
    "# 定義影像的轉換操作\n",
    "transform = transforms.Compose([\n",
    "    transforms.Resize((256, 256)),  # 將影像大小統一調整為256x256\n",
    "    transforms.Grayscale(num_output_channels=1),  # 轉換為單通道灰度影像\n",
    "    transforms.ToTensor(),           # 將影像轉換為PyTorch張量\n",
    "    transforms.Normalize(mean=[0.485], std=[0.229]),  # 影像正規化\n",
    "])"
   ]
  },
  {
   "cell_type": "markdown",
   "metadata": {},
   "source": [
    "# 載入資料集"
   ]
  },
  {
   "cell_type": "code",
   "execution_count": 4,
   "metadata": {},
   "outputs": [],
   "source": [
    "# 載入訓練集\n",
    "train_dataset = datasets.ImageFolder(root='chest_xray/train/', transform=transform)\n",
    "# 訓練集的平均值和標準差\n",
    "train_loader = DataLoader(train_dataset, batch_size=32, shuffle=True)\n",
    "\n",
    "# 載入驗證集\n",
    "val_dataset = datasets.ImageFolder(root='chest_xray/val/', transform=transform)\n",
    "# 驗證集的平均值和標準差\n",
    "val_loader = DataLoader(val_dataset, batch_size=32, shuffle=False)\n",
    "\n",
    "# 載入測試集\n",
    "test_dataset = datasets.ImageFolder(root='chest_xray/test/', transform=transform)\n",
    "# 測試集的平均值和標準差\n",
    "test_loader = DataLoader(test_dataset, batch_size=32, shuffle=False)"
   ]
  },
  {
   "cell_type": "markdown",
   "metadata": {},
   "source": [
    "# 建立模型"
   ]
  },
  {
   "cell_type": "code",
   "execution_count": 5,
   "metadata": {},
   "outputs": [],
   "source": [
    "# 定義一個卷積神經網路\n",
    "class CNN(nn.Module):\n",
    "    def __init__(self): # 定義初始化方法\n",
    "        super(CNN, self).__init__() # 繼承父類別的初始化方法\n",
    "        self.conv1 = nn.Conv2d(1, 32, kernel_size=3, padding=1)  # 第一個卷積層\n",
    "        self.conv2 = nn.Conv2d(32, 64, kernel_size=3, padding=1) # 第二個卷積層\n",
    "        self.conv3 = nn.Conv2d(64, 128, kernel_size=3, padding=1) # 第三個卷積層\n",
    "        self.pool = nn.MaxPool2d(2, 2)                            # 池化層\n",
    "        self.adap_pool = nn.AdaptiveAvgPool2d((1, 1))             # 自適應池化層\n",
    "        self.fc1 = nn.Linear(128, 512)                            # 全連接層\n",
    "        self.fc2 = nn.Linear(512, 2)                              # 輸出層\n",
    "\n",
    "    # 定義向前傳播函數，x為輸入的影像張量\n",
    "    def forward(self, x):\n",
    "        x = F.relu(self.conv1(x)) # 使用ReLU激活函數\n",
    "        x = self.pool(x)         # 池化\n",
    "        x = F.relu(self.conv2(x)) # 使用ReLU激活函數\n",
    "        x = self.pool(x)        # 池化\n",
    "        x = F.relu(self.conv3(x)) # 使用ReLU激活函數\n",
    "        x = self.pool(x)       # 池化\n",
    "        x = self.adap_pool(x)  # 自適應池化層將任何尺寸的特徵圖調整為1x1\n",
    "        x = x.view(-1, 128)    # 攤平特徵圖\n",
    "        x = F.relu(self.fc1(x)) # 使用ReLU激活函數\n",
    "        x = self.fc2(x)        # 輸出層\n",
    "        return x              # 返回輸出\n",
    "\n",
    "# 建立一個卷積神經網路的實例\n",
    "model = CNN()"
   ]
  },
  {
   "cell_type": "code",
   "execution_count": 6,
   "metadata": {},
   "outputs": [
    {
     "data": {
      "text/plain": [
       "CNN(\n",
       "  (conv1): Conv2d(1, 32, kernel_size=(3, 3), stride=(1, 1), padding=(1, 1))\n",
       "  (conv2): Conv2d(32, 64, kernel_size=(3, 3), stride=(1, 1), padding=(1, 1))\n",
       "  (conv3): Conv2d(64, 128, kernel_size=(3, 3), stride=(1, 1), padding=(1, 1))\n",
       "  (pool): MaxPool2d(kernel_size=2, stride=2, padding=0, dilation=1, ceil_mode=False)\n",
       "  (adap_pool): AdaptiveAvgPool2d(output_size=(1, 1))\n",
       "  (fc1): Linear(in_features=128, out_features=512, bias=True)\n",
       "  (fc2): Linear(in_features=512, out_features=2, bias=True)\n",
       ")"
      ]
     },
     "execution_count": 6,
     "metadata": {},
     "output_type": "execute_result"
    }
   ],
   "source": [
    "model.to(device) # 將模型移到目前使用的設備上"
   ]
  },
  {
   "cell_type": "markdown",
   "metadata": {
    "jp-MarkdownHeadingCollapsed": true,
    "tags": []
   },
   "source": [
    "# 查看模型架構"
   ]
  },
  {
   "cell_type": "code",
   "execution_count": 7,
   "metadata": {},
   "outputs": [
    {
     "name": "stdout",
     "output_type": "stream",
     "text": [
      "----------------------------------------------------------------\n",
      "        Layer (type)               Output Shape         Param #\n",
      "================================================================\n",
      "            Conv2d-1         [-1, 32, 256, 256]             320\n",
      "         MaxPool2d-2         [-1, 32, 128, 128]               0\n",
      "            Conv2d-3         [-1, 64, 128, 128]          18,496\n",
      "         MaxPool2d-4           [-1, 64, 64, 64]               0\n",
      "            Conv2d-5          [-1, 128, 64, 64]          73,856\n",
      "         MaxPool2d-6          [-1, 128, 32, 32]               0\n",
      " AdaptiveAvgPool2d-7            [-1, 128, 1, 1]               0\n",
      "            Linear-8                  [-1, 512]          66,048\n",
      "            Linear-9                    [-1, 2]           1,026\n",
      "================================================================\n",
      "Total params: 159,746\n",
      "Trainable params: 159,746\n",
      "Non-trainable params: 0\n",
      "----------------------------------------------------------------\n",
      "Input size (MB): 0.25\n",
      "Forward/backward pass size (MB): 35.00\n",
      "Params size (MB): 0.61\n",
      "Estimated Total Size (MB): 35.86\n",
      "----------------------------------------------------------------\n"
     ]
    }
   ],
   "source": [
    "summary(model, (1, 256, 256))"
   ]
  },
  {
   "cell_type": "markdown",
   "metadata": {},
   "source": [
    "# 訓練模型"
   ]
  },
  {
   "cell_type": "code",
   "execution_count": 8,
   "metadata": {},
   "outputs": [
    {
     "name": "stderr",
     "output_type": "stream",
     "text": [
      "Epoch [1/100]: 100%|█████████████████████████████████████| 163/163 [01:12<00:00,  2.26it/s, accuracy=74.1, loss=0.0176]\n"
     ]
    },
    {
     "name": "stdout",
     "output_type": "stream",
     "text": [
      "Validation Accuracy: 56.25%\n"
     ]
    },
    {
     "name": "stderr",
     "output_type": "stream",
     "text": [
      "Epoch [2/100]: 100%|█████████████████████████████████████| 163/163 [01:12<00:00,  2.25it/s, accuracy=78.6, loss=0.0134]\n"
     ]
    },
    {
     "name": "stdout",
     "output_type": "stream",
     "text": [
      "Validation Accuracy: 50.0%\n"
     ]
    },
    {
     "name": "stderr",
     "output_type": "stream",
     "text": [
      "Epoch [3/100]: 100%|████████████████████████████████████| 163/163 [01:12<00:00,  2.25it/s, accuracy=87.9, loss=0.00886]\n"
     ]
    },
    {
     "name": "stdout",
     "output_type": "stream",
     "text": [
      "Validation Accuracy: 50.0%\n"
     ]
    },
    {
     "name": "stderr",
     "output_type": "stream",
     "text": [
      "Epoch [4/100]: 100%|████████████████████████████████████| 163/163 [01:12<00:00,  2.25it/s, accuracy=90.3, loss=0.00754]\n"
     ]
    },
    {
     "name": "stdout",
     "output_type": "stream",
     "text": [
      "Validation Accuracy: 50.0%\n"
     ]
    },
    {
     "name": "stderr",
     "output_type": "stream",
     "text": [
      "Epoch [5/100]: 100%|█████████████████████████████████████| 163/163 [01:12<00:00,  2.24it/s, accuracy=91.2, loss=0.0067]\n"
     ]
    },
    {
     "name": "stdout",
     "output_type": "stream",
     "text": [
      "Validation Accuracy: 50.0%\n"
     ]
    },
    {
     "name": "stderr",
     "output_type": "stream",
     "text": [
      "Epoch [6/100]: 100%|█████████████████████████████████████| 163/163 [01:12<00:00,  2.25it/s, accuracy=92.8, loss=0.0058]\n"
     ]
    },
    {
     "name": "stdout",
     "output_type": "stream",
     "text": [
      "Validation Accuracy: 50.0%\n"
     ]
    },
    {
     "name": "stderr",
     "output_type": "stream",
     "text": [
      "Epoch [7/100]: 100%|████████████████████████████████████| 163/163 [01:12<00:00,  2.26it/s, accuracy=93.5, loss=0.00526]\n"
     ]
    },
    {
     "name": "stdout",
     "output_type": "stream",
     "text": [
      "Validation Accuracy: 56.25%\n"
     ]
    },
    {
     "name": "stderr",
     "output_type": "stream",
     "text": [
      "Epoch [8/100]: 100%|████████████████████████████████████| 163/163 [01:12<00:00,  2.26it/s, accuracy=94.2, loss=0.00468]\n"
     ]
    },
    {
     "name": "stdout",
     "output_type": "stream",
     "text": [
      "Validation Accuracy: 50.0%\n"
     ]
    },
    {
     "name": "stderr",
     "output_type": "stream",
     "text": [
      "Epoch [9/100]: 100%|██████████████████████████████████████| 163/163 [01:12<00:00,  2.25it/s, accuracy=95, loss=0.00415]\n"
     ]
    },
    {
     "name": "stdout",
     "output_type": "stream",
     "text": [
      "Validation Accuracy: 56.25%\n"
     ]
    },
    {
     "name": "stderr",
     "output_type": "stream",
     "text": [
      "Epoch [10/100]: 100%|█████████████████████████████████████| 163/163 [01:12<00:00,  2.26it/s, accuracy=95, loss=0.00403]\n"
     ]
    },
    {
     "name": "stdout",
     "output_type": "stream",
     "text": [
      "Validation Accuracy: 81.25%\n"
     ]
    },
    {
     "name": "stderr",
     "output_type": "stream",
     "text": [
      "Epoch [11/100]: 100%|███████████████████████████████████| 163/163 [01:12<00:00,  2.26it/s, accuracy=95.5, loss=0.00381]\n"
     ]
    },
    {
     "name": "stdout",
     "output_type": "stream",
     "text": [
      "Validation Accuracy: 75.0%\n"
     ]
    },
    {
     "name": "stderr",
     "output_type": "stream",
     "text": [
      "Epoch [12/100]: 100%|███████████████████████████████████| 163/163 [01:12<00:00,  2.26it/s, accuracy=95.8, loss=0.00348]\n"
     ]
    },
    {
     "name": "stdout",
     "output_type": "stream",
     "text": [
      "Validation Accuracy: 68.75%\n"
     ]
    },
    {
     "name": "stderr",
     "output_type": "stream",
     "text": [
      "Epoch [13/100]: 100%|███████████████████████████████████| 163/163 [01:12<00:00,  2.26it/s, accuracy=95.5, loss=0.00356]\n"
     ]
    },
    {
     "name": "stdout",
     "output_type": "stream",
     "text": [
      "Validation Accuracy: 87.5%\n"
     ]
    },
    {
     "name": "stderr",
     "output_type": "stream",
     "text": [
      "Epoch [14/100]: 100%|███████████████████████████████████| 163/163 [01:11<00:00,  2.26it/s, accuracy=95.6, loss=0.00355]\n"
     ]
    },
    {
     "name": "stdout",
     "output_type": "stream",
     "text": [
      "Validation Accuracy: 62.5%\n"
     ]
    },
    {
     "name": "stderr",
     "output_type": "stream",
     "text": [
      "Epoch [15/100]: 100%|███████████████████████████████████| 163/163 [01:12<00:00,  2.26it/s, accuracy=96.2, loss=0.00318]\n"
     ]
    },
    {
     "name": "stdout",
     "output_type": "stream",
     "text": [
      "Validation Accuracy: 56.25%\n"
     ]
    },
    {
     "name": "stderr",
     "output_type": "stream",
     "text": [
      "Epoch [16/100]: 100%|███████████████████████████████████| 163/163 [01:12<00:00,  2.25it/s, accuracy=95.8, loss=0.00323]\n"
     ]
    },
    {
     "name": "stdout",
     "output_type": "stream",
     "text": [
      "Validation Accuracy: 56.25%\n"
     ]
    },
    {
     "name": "stderr",
     "output_type": "stream",
     "text": [
      "Epoch [17/100]: 100%|███████████████████████████████████| 163/163 [01:12<00:00,  2.26it/s, accuracy=96.2, loss=0.00313]\n"
     ]
    },
    {
     "name": "stdout",
     "output_type": "stream",
     "text": [
      "Validation Accuracy: 75.0%\n"
     ]
    },
    {
     "name": "stderr",
     "output_type": "stream",
     "text": [
      "Epoch [18/100]: 100%|█████████████████████████████████████| 163/163 [01:12<00:00,  2.26it/s, accuracy=96, loss=0.00344]\n"
     ]
    },
    {
     "name": "stdout",
     "output_type": "stream",
     "text": [
      "Validation Accuracy: 87.5%\n"
     ]
    },
    {
     "name": "stderr",
     "output_type": "stream",
     "text": [
      "Epoch [19/100]: 100%|█████████████████████████████████████| 163/163 [01:12<00:00,  2.26it/s, accuracy=97, loss=0.00267]\n"
     ]
    },
    {
     "name": "stdout",
     "output_type": "stream",
     "text": [
      "Validation Accuracy: 75.0%\n"
     ]
    },
    {
     "name": "stderr",
     "output_type": "stream",
     "text": [
      "Epoch [20/100]: 100%|███████████████████████████████████| 163/163 [01:12<00:00,  2.26it/s, accuracy=96.9, loss=0.00274]\n"
     ]
    },
    {
     "name": "stdout",
     "output_type": "stream",
     "text": [
      "Validation Accuracy: 81.25%\n"
     ]
    },
    {
     "name": "stderr",
     "output_type": "stream",
     "text": [
      "Epoch [21/100]: 100%|███████████████████████████████████| 163/163 [01:12<00:00,  2.25it/s, accuracy=96.6, loss=0.00279]\n"
     ]
    },
    {
     "name": "stdout",
     "output_type": "stream",
     "text": [
      "Validation Accuracy: 81.25%\n"
     ]
    },
    {
     "name": "stderr",
     "output_type": "stream",
     "text": [
      "Epoch [22/100]: 100%|███████████████████████████████████| 163/163 [01:13<00:00,  2.23it/s, accuracy=97.2, loss=0.00236]\n"
     ]
    },
    {
     "name": "stdout",
     "output_type": "stream",
     "text": [
      "Validation Accuracy: 75.0%\n"
     ]
    },
    {
     "name": "stderr",
     "output_type": "stream",
     "text": [
      "Epoch [23/100]: 100%|███████████████████████████████████| 163/163 [01:12<00:00,  2.24it/s, accuracy=97.3, loss=0.00249]\n"
     ]
    },
    {
     "name": "stdout",
     "output_type": "stream",
     "text": [
      "Validation Accuracy: 75.0%\n"
     ]
    },
    {
     "name": "stderr",
     "output_type": "stream",
     "text": [
      "Epoch [24/100]: 100%|███████████████████████████████████| 163/163 [01:12<00:00,  2.25it/s, accuracy=97.6, loss=0.00224]\n"
     ]
    },
    {
     "name": "stdout",
     "output_type": "stream",
     "text": [
      "Validation Accuracy: 81.25%\n"
     ]
    },
    {
     "name": "stderr",
     "output_type": "stream",
     "text": [
      "Epoch [25/100]: 100%|███████████████████████████████████| 163/163 [01:12<00:00,  2.25it/s, accuracy=97.1, loss=0.00241]\n"
     ]
    },
    {
     "name": "stdout",
     "output_type": "stream",
     "text": [
      "Validation Accuracy: 87.5%\n"
     ]
    },
    {
     "name": "stderr",
     "output_type": "stream",
     "text": [
      "Epoch [26/100]: 100%|███████████████████████████████████| 163/163 [01:12<00:00,  2.25it/s, accuracy=97.4, loss=0.00213]\n"
     ]
    },
    {
     "name": "stdout",
     "output_type": "stream",
     "text": [
      "Validation Accuracy: 81.25%\n"
     ]
    },
    {
     "name": "stderr",
     "output_type": "stream",
     "text": [
      "Epoch [27/100]: 100%|███████████████████████████████████| 163/163 [01:12<00:00,  2.25it/s, accuracy=97.5, loss=0.00205]\n"
     ]
    },
    {
     "name": "stdout",
     "output_type": "stream",
     "text": [
      "Validation Accuracy: 81.25%\n"
     ]
    },
    {
     "name": "stderr",
     "output_type": "stream",
     "text": [
      "Epoch [28/100]: 100%|███████████████████████████████████| 163/163 [01:13<00:00,  2.23it/s, accuracy=97.7, loss=0.00207]\n"
     ]
    },
    {
     "name": "stdout",
     "output_type": "stream",
     "text": [
      "Validation Accuracy: 68.75%\n"
     ]
    },
    {
     "name": "stderr",
     "output_type": "stream",
     "text": [
      "Epoch [29/100]: 100%|███████████████████████████████████| 163/163 [01:12<00:00,  2.24it/s, accuracy=97.6, loss=0.00201]\n"
     ]
    },
    {
     "name": "stdout",
     "output_type": "stream",
     "text": [
      "Validation Accuracy: 81.25%\n"
     ]
    },
    {
     "name": "stderr",
     "output_type": "stream",
     "text": [
      "Epoch [30/100]: 100%|███████████████████████████████████| 163/163 [01:12<00:00,  2.24it/s, accuracy=97.2, loss=0.00227]\n"
     ]
    },
    {
     "name": "stdout",
     "output_type": "stream",
     "text": [
      "Validation Accuracy: 93.75%\n"
     ]
    },
    {
     "name": "stderr",
     "output_type": "stream",
     "text": [
      "Epoch [31/100]: 100%|██████████████████████████████████████| 163/163 [01:12<00:00,  2.24it/s, accuracy=98, loss=0.0018]\n"
     ]
    },
    {
     "name": "stdout",
     "output_type": "stream",
     "text": [
      "Validation Accuracy: 100.0%\n"
     ]
    },
    {
     "name": "stderr",
     "output_type": "stream",
     "text": [
      "Epoch [32/100]: 100%|███████████████████████████████████| 163/163 [01:12<00:00,  2.25it/s, accuracy=98.1, loss=0.00151]\n"
     ]
    },
    {
     "name": "stdout",
     "output_type": "stream",
     "text": [
      "Validation Accuracy: 81.25%\n"
     ]
    },
    {
     "name": "stderr",
     "output_type": "stream",
     "text": [
      "Epoch [33/100]: 100%|███████████████████████████████████| 163/163 [01:12<00:00,  2.26it/s, accuracy=97.9, loss=0.00171]\n"
     ]
    },
    {
     "name": "stdout",
     "output_type": "stream",
     "text": [
      "Validation Accuracy: 81.25%\n"
     ]
    },
    {
     "name": "stderr",
     "output_type": "stream",
     "text": [
      "Epoch [34/100]: 100%|█████████████████████████████████████| 163/163 [01:11<00:00,  2.28it/s, accuracy=98, loss=0.00148]\n"
     ]
    },
    {
     "name": "stdout",
     "output_type": "stream",
     "text": [
      "Validation Accuracy: 93.75%\n"
     ]
    },
    {
     "name": "stderr",
     "output_type": "stream",
     "text": [
      "Epoch [35/100]: 100%|███████████████████████████████████| 163/163 [01:12<00:00,  2.26it/s, accuracy=98.3, loss=0.00149]\n"
     ]
    },
    {
     "name": "stdout",
     "output_type": "stream",
     "text": [
      "Validation Accuracy: 93.75%\n"
     ]
    },
    {
     "name": "stderr",
     "output_type": "stream",
     "text": [
      "Epoch [36/100]: 100%|██████████████████████████████████████| 163/163 [01:12<00:00,  2.26it/s, accuracy=98, loss=0.0017]\n"
     ]
    },
    {
     "name": "stdout",
     "output_type": "stream",
     "text": [
      "Validation Accuracy: 93.75%\n"
     ]
    },
    {
     "name": "stderr",
     "output_type": "stream",
     "text": [
      "Epoch [37/100]: 100%|███████████████████████████████████| 163/163 [01:12<00:00,  2.26it/s, accuracy=97.8, loss=0.00171]\n"
     ]
    },
    {
     "name": "stdout",
     "output_type": "stream",
     "text": [
      "Validation Accuracy: 87.5%\n"
     ]
    },
    {
     "name": "stderr",
     "output_type": "stream",
     "text": [
      "Epoch [38/100]: 100%|███████████████████████████████████| 163/163 [01:11<00:00,  2.26it/s, accuracy=98.5, loss=0.00132]\n"
     ]
    },
    {
     "name": "stdout",
     "output_type": "stream",
     "text": [
      "Validation Accuracy: 75.0%\n"
     ]
    },
    {
     "name": "stderr",
     "output_type": "stream",
     "text": [
      "Epoch [39/100]: 100%|███████████████████████████████████| 163/163 [01:12<00:00,  2.26it/s, accuracy=98.5, loss=0.00139]\n"
     ]
    },
    {
     "name": "stdout",
     "output_type": "stream",
     "text": [
      "Validation Accuracy: 93.75%\n"
     ]
    },
    {
     "name": "stderr",
     "output_type": "stream",
     "text": [
      "Epoch [40/100]: 100%|███████████████████████████████████| 163/163 [01:12<00:00,  2.25it/s, accuracy=98.7, loss=0.00114]\n"
     ]
    },
    {
     "name": "stdout",
     "output_type": "stream",
     "text": [
      "Validation Accuracy: 87.5%\n"
     ]
    },
    {
     "name": "stderr",
     "output_type": "stream",
     "text": [
      "Epoch [41/100]: 100%|███████████████████████████████████| 163/163 [01:12<00:00,  2.26it/s, accuracy=98.7, loss=0.00115]\n"
     ]
    },
    {
     "name": "stdout",
     "output_type": "stream",
     "text": [
      "Validation Accuracy: 93.75%\n"
     ]
    },
    {
     "name": "stderr",
     "output_type": "stream",
     "text": [
      "Epoch [42/100]: 100%|███████████████████████████████████| 163/163 [01:12<00:00,  2.26it/s, accuracy=98.4, loss=0.00133]\n"
     ]
    },
    {
     "name": "stdout",
     "output_type": "stream",
     "text": [
      "Validation Accuracy: 87.5%\n"
     ]
    },
    {
     "name": "stderr",
     "output_type": "stream",
     "text": [
      "Epoch [43/100]: 100%|███████████████████████████████████| 163/163 [01:12<00:00,  2.25it/s, accuracy=98.5, loss=0.00122]\n"
     ]
    },
    {
     "name": "stdout",
     "output_type": "stream",
     "text": [
      "Validation Accuracy: 87.5%\n"
     ]
    },
    {
     "name": "stderr",
     "output_type": "stream",
     "text": [
      "Epoch [44/100]: 100%|███████████████████████████████████| 163/163 [01:12<00:00,  2.25it/s, accuracy=98.6, loss=0.00117]\n"
     ]
    },
    {
     "name": "stdout",
     "output_type": "stream",
     "text": [
      "Validation Accuracy: 93.75%\n"
     ]
    },
    {
     "name": "stderr",
     "output_type": "stream",
     "text": [
      "Epoch [45/100]: 100%|███████████████████████████████████| 163/163 [01:12<00:00,  2.26it/s, accuracy=98.8, loss=0.00115]\n"
     ]
    },
    {
     "name": "stdout",
     "output_type": "stream",
     "text": [
      "Validation Accuracy: 87.5%\n"
     ]
    },
    {
     "name": "stderr",
     "output_type": "stream",
     "text": [
      "Epoch [46/100]: 100%|███████████████████████████████████| 163/163 [01:12<00:00,  2.26it/s, accuracy=99.2, loss=0.00082]\n"
     ]
    },
    {
     "name": "stdout",
     "output_type": "stream",
     "text": [
      "Validation Accuracy: 100.0%\n"
     ]
    },
    {
     "name": "stderr",
     "output_type": "stream",
     "text": [
      "Epoch [47/100]: 100%|███████████████████████████████████| 163/163 [01:12<00:00,  2.25it/s, accuracy=98.8, loss=0.00101]\n"
     ]
    },
    {
     "name": "stdout",
     "output_type": "stream",
     "text": [
      "Validation Accuracy: 93.75%\n"
     ]
    },
    {
     "name": "stderr",
     "output_type": "stream",
     "text": [
      "Epoch [48/100]: 100%|██████████████████████████████████| 163/163 [01:12<00:00,  2.26it/s, accuracy=99.1, loss=0.000862]\n"
     ]
    },
    {
     "name": "stdout",
     "output_type": "stream",
     "text": [
      "Validation Accuracy: 100.0%\n"
     ]
    },
    {
     "name": "stderr",
     "output_type": "stream",
     "text": [
      "Epoch [49/100]: 100%|███████████████████████████████████| 163/163 [01:12<00:00,  2.26it/s, accuracy=98.6, loss=0.00128]\n"
     ]
    },
    {
     "name": "stdout",
     "output_type": "stream",
     "text": [
      "Validation Accuracy: 100.0%\n"
     ]
    },
    {
     "name": "stderr",
     "output_type": "stream",
     "text": [
      "Epoch [50/100]: 100%|██████████████████████████████████| 163/163 [01:12<00:00,  2.24it/s, accuracy=99.2, loss=0.000731]\n"
     ]
    },
    {
     "name": "stdout",
     "output_type": "stream",
     "text": [
      "Validation Accuracy: 100.0%\n"
     ]
    },
    {
     "name": "stderr",
     "output_type": "stream",
     "text": [
      "Epoch [51/100]: 100%|█████████████████████████████████████| 163/163 [01:12<00:00,  2.25it/s, accuracy=99, loss=0.00078]\n"
     ]
    },
    {
     "name": "stdout",
     "output_type": "stream",
     "text": [
      "Validation Accuracy: 100.0%\n"
     ]
    },
    {
     "name": "stderr",
     "output_type": "stream",
     "text": [
      "Epoch [52/100]: 100%|██████████████████████████████████| 163/163 [01:12<00:00,  2.24it/s, accuracy=99.2, loss=0.000674]\n"
     ]
    },
    {
     "name": "stdout",
     "output_type": "stream",
     "text": [
      "Validation Accuracy: 100.0%\n"
     ]
    },
    {
     "name": "stderr",
     "output_type": "stream",
     "text": [
      "Epoch [53/100]: 100%|███████████████████████████████████| 163/163 [01:12<00:00,  2.26it/s, accuracy=98.6, loss=0.00117]\n"
     ]
    },
    {
     "name": "stdout",
     "output_type": "stream",
     "text": [
      "Validation Accuracy: 100.0%\n"
     ]
    },
    {
     "name": "stderr",
     "output_type": "stream",
     "text": [
      "Epoch [54/100]: 100%|██████████████████████████████████| 163/163 [01:12<00:00,  2.26it/s, accuracy=99.1, loss=0.000743]\n"
     ]
    },
    {
     "name": "stdout",
     "output_type": "stream",
     "text": [
      "Validation Accuracy: 93.75%\n"
     ]
    },
    {
     "name": "stderr",
     "output_type": "stream",
     "text": [
      "Epoch [55/100]: 100%|██████████████████████████████████| 163/163 [01:12<00:00,  2.25it/s, accuracy=99.4, loss=0.000562]\n"
     ]
    },
    {
     "name": "stdout",
     "output_type": "stream",
     "text": [
      "Validation Accuracy: 93.75%\n"
     ]
    },
    {
     "name": "stderr",
     "output_type": "stream",
     "text": [
      "Epoch [56/100]: 100%|██████████████████████████████████| 163/163 [01:12<00:00,  2.26it/s, accuracy=99.1, loss=0.000797]\n"
     ]
    },
    {
     "name": "stdout",
     "output_type": "stream",
     "text": [
      "Validation Accuracy: 81.25%\n"
     ]
    },
    {
     "name": "stderr",
     "output_type": "stream",
     "text": [
      "Epoch [57/100]: 100%|██████████████████████████████████| 163/163 [01:12<00:00,  2.25it/s, accuracy=99.3, loss=0.000674]\n"
     ]
    },
    {
     "name": "stdout",
     "output_type": "stream",
     "text": [
      "Validation Accuracy: 93.75%\n"
     ]
    },
    {
     "name": "stderr",
     "output_type": "stream",
     "text": [
      "Epoch [58/100]: 100%|██████████████████████████████████| 163/163 [01:12<00:00,  2.26it/s, accuracy=98.9, loss=0.000904]\n"
     ]
    },
    {
     "name": "stdout",
     "output_type": "stream",
     "text": [
      "Validation Accuracy: 93.75%\n"
     ]
    },
    {
     "name": "stderr",
     "output_type": "stream",
     "text": [
      "Epoch [59/100]: 100%|███████████████████████████████████| 163/163 [01:12<00:00,  2.25it/s, accuracy=98.3, loss=0.00142]\n"
     ]
    },
    {
     "name": "stdout",
     "output_type": "stream",
     "text": [
      "Validation Accuracy: 87.5%\n"
     ]
    },
    {
     "name": "stderr",
     "output_type": "stream",
     "text": [
      "Epoch [60/100]: 100%|██████████████████████████████████| 163/163 [01:12<00:00,  2.26it/s, accuracy=99.4, loss=0.000542]\n"
     ]
    },
    {
     "name": "stdout",
     "output_type": "stream",
     "text": [
      "Validation Accuracy: 93.75%\n"
     ]
    },
    {
     "name": "stderr",
     "output_type": "stream",
     "text": [
      "Epoch [61/100]: 100%|██████████████████████████████████| 163/163 [01:11<00:00,  2.27it/s, accuracy=99.6, loss=0.000362]\n"
     ]
    },
    {
     "name": "stdout",
     "output_type": "stream",
     "text": [
      "Validation Accuracy: 100.0%\n"
     ]
    },
    {
     "name": "stderr",
     "output_type": "stream",
     "text": [
      "Epoch [62/100]: 100%|██████████████████████████████████| 163/163 [01:11<00:00,  2.27it/s, accuracy=99.4, loss=0.000451]\n"
     ]
    },
    {
     "name": "stdout",
     "output_type": "stream",
     "text": [
      "Validation Accuracy: 93.75%\n"
     ]
    },
    {
     "name": "stderr",
     "output_type": "stream",
     "text": [
      "Epoch [63/100]: 100%|██████████████████████████████████| 163/163 [01:11<00:00,  2.27it/s, accuracy=99.8, loss=0.000304]\n"
     ]
    },
    {
     "name": "stdout",
     "output_type": "stream",
     "text": [
      "Validation Accuracy: 93.75%\n"
     ]
    },
    {
     "name": "stderr",
     "output_type": "stream",
     "text": [
      "Epoch [64/100]: 100%|██████████████████████████████████| 163/163 [01:11<00:00,  2.27it/s, accuracy=99.2, loss=0.000696]\n"
     ]
    },
    {
     "name": "stdout",
     "output_type": "stream",
     "text": [
      "Validation Accuracy: 93.75%\n"
     ]
    },
    {
     "name": "stderr",
     "output_type": "stream",
     "text": [
      "Epoch [65/100]: 100%|██████████████████████████████████| 163/163 [01:11<00:00,  2.27it/s, accuracy=99.3, loss=0.000686]\n"
     ]
    },
    {
     "name": "stdout",
     "output_type": "stream",
     "text": [
      "Validation Accuracy: 93.75%\n"
     ]
    },
    {
     "name": "stderr",
     "output_type": "stream",
     "text": [
      "Epoch [66/100]: 100%|██████████████████████████████████| 163/163 [01:12<00:00,  2.26it/s, accuracy=99.5, loss=0.000441]\n"
     ]
    },
    {
     "name": "stdout",
     "output_type": "stream",
     "text": [
      "Validation Accuracy: 93.75%\n"
     ]
    },
    {
     "name": "stderr",
     "output_type": "stream",
     "text": [
      "Epoch [67/100]: 100%|██████████████████████████████████| 163/163 [01:12<00:00,  2.26it/s, accuracy=99.6, loss=0.000374]\n"
     ]
    },
    {
     "name": "stdout",
     "output_type": "stream",
     "text": [
      "Validation Accuracy: 93.75%\n"
     ]
    },
    {
     "name": "stderr",
     "output_type": "stream",
     "text": [
      "Epoch [68/100]: 100%|███████████████████████████████████| 163/163 [01:11<00:00,  2.27it/s, accuracy=99.8, loss=0.00029]\n"
     ]
    },
    {
     "name": "stdout",
     "output_type": "stream",
     "text": [
      "Validation Accuracy: 93.75%\n"
     ]
    },
    {
     "name": "stderr",
     "output_type": "stream",
     "text": [
      "Epoch [69/100]: 100%|██████████████████████████████████| 163/163 [01:11<00:00,  2.27it/s, accuracy=99.6, loss=0.000356]\n"
     ]
    },
    {
     "name": "stdout",
     "output_type": "stream",
     "text": [
      "Validation Accuracy: 93.75%\n"
     ]
    },
    {
     "name": "stderr",
     "output_type": "stream",
     "text": [
      "Epoch [70/100]: 100%|██████████████████████████████████| 163/163 [01:11<00:00,  2.26it/s, accuracy=99.9, loss=0.000189]\n"
     ]
    },
    {
     "name": "stdout",
     "output_type": "stream",
     "text": [
      "Validation Accuracy: 93.75%\n"
     ]
    },
    {
     "name": "stderr",
     "output_type": "stream",
     "text": [
      "Epoch [71/100]: 100%|██████████████████████████████████| 163/163 [01:11<00:00,  2.27it/s, accuracy=99.8, loss=0.000229]\n"
     ]
    },
    {
     "name": "stdout",
     "output_type": "stream",
     "text": [
      "Validation Accuracy: 100.0%\n"
     ]
    },
    {
     "name": "stderr",
     "output_type": "stream",
     "text": [
      "Epoch [72/100]: 100%|██████████████████████████████████| 163/163 [01:12<00:00,  2.26it/s, accuracy=99.1, loss=0.000714]\n"
     ]
    },
    {
     "name": "stdout",
     "output_type": "stream",
     "text": [
      "Validation Accuracy: 93.75%\n"
     ]
    },
    {
     "name": "stderr",
     "output_type": "stream",
     "text": [
      "Epoch [73/100]: 100%|██████████████████████████████████| 163/163 [01:11<00:00,  2.27it/s, accuracy=99.4, loss=0.000497]\n"
     ]
    },
    {
     "name": "stdout",
     "output_type": "stream",
     "text": [
      "Validation Accuracy: 81.25%\n"
     ]
    },
    {
     "name": "stderr",
     "output_type": "stream",
     "text": [
      "Epoch [74/100]: 100%|███████████████████████████████████| 163/163 [01:12<00:00,  2.26it/s, accuracy=98.5, loss=0.00129]\n"
     ]
    },
    {
     "name": "stdout",
     "output_type": "stream",
     "text": [
      "Validation Accuracy: 100.0%\n"
     ]
    },
    {
     "name": "stderr",
     "output_type": "stream",
     "text": [
      "Epoch [75/100]: 100%|██████████████████████████████████| 163/163 [01:11<00:00,  2.26it/s, accuracy=99.9, loss=0.000202]\n"
     ]
    },
    {
     "name": "stdout",
     "output_type": "stream",
     "text": [
      "Validation Accuracy: 93.75%\n"
     ]
    },
    {
     "name": "stderr",
     "output_type": "stream",
     "text": [
      "Epoch [76/100]: 100%|████████████████████████████████████| 163/163 [01:11<00:00,  2.27it/s, accuracy=100, loss=0.00012]\n"
     ]
    },
    {
     "name": "stdout",
     "output_type": "stream",
     "text": [
      "Validation Accuracy: 93.75%\n"
     ]
    },
    {
     "name": "stderr",
     "output_type": "stream",
     "text": [
      "Epoch [77/100]: 100%|██████████████████████████████████| 163/163 [01:11<00:00,  2.27it/s, accuracy=99.9, loss=0.000136]\n"
     ]
    },
    {
     "name": "stdout",
     "output_type": "stream",
     "text": [
      "Validation Accuracy: 93.75%\n"
     ]
    },
    {
     "name": "stderr",
     "output_type": "stream",
     "text": [
      "Epoch [78/100]: 100%|██████████████████████████████████| 163/163 [01:12<00:00,  2.26it/s, accuracy=99.9, loss=0.000166]\n"
     ]
    },
    {
     "name": "stdout",
     "output_type": "stream",
     "text": [
      "Validation Accuracy: 100.0%\n"
     ]
    },
    {
     "name": "stderr",
     "output_type": "stream",
     "text": [
      "Epoch [79/100]: 100%|██████████████████████████████████| 163/163 [01:11<00:00,  2.27it/s, accuracy=99.7, loss=0.000288]\n"
     ]
    },
    {
     "name": "stdout",
     "output_type": "stream",
     "text": [
      "Validation Accuracy: 100.0%\n"
     ]
    },
    {
     "name": "stderr",
     "output_type": "stream",
     "text": [
      "Epoch [80/100]: 100%|███████████████████████████████████| 163/163 [01:11<00:00,  2.26it/s, accuracy=98.8, loss=0.00119]\n"
     ]
    },
    {
     "name": "stdout",
     "output_type": "stream",
     "text": [
      "Validation Accuracy: 93.75%\n"
     ]
    },
    {
     "name": "stderr",
     "output_type": "stream",
     "text": [
      "Epoch [81/100]: 100%|██████████████████████████████████| 163/163 [01:11<00:00,  2.27it/s, accuracy=99.2, loss=0.000608]\n"
     ]
    },
    {
     "name": "stdout",
     "output_type": "stream",
     "text": [
      "Validation Accuracy: 100.0%\n"
     ]
    },
    {
     "name": "stderr",
     "output_type": "stream",
     "text": [
      "Epoch [82/100]: 100%|██████████████████████████████████| 163/163 [01:11<00:00,  2.27it/s, accuracy=99.9, loss=0.000199]\n"
     ]
    },
    {
     "name": "stdout",
     "output_type": "stream",
     "text": [
      "Validation Accuracy: 100.0%\n"
     ]
    },
    {
     "name": "stderr",
     "output_type": "stream",
     "text": [
      "Epoch [83/100]: 100%|██████████████████████████████████| 163/163 [01:11<00:00,  2.27it/s, accuracy=99.8, loss=0.000187]\n"
     ]
    },
    {
     "name": "stdout",
     "output_type": "stream",
     "text": [
      "Validation Accuracy: 87.5%\n"
     ]
    },
    {
     "name": "stderr",
     "output_type": "stream",
     "text": [
      "Epoch [84/100]: 100%|██████████████████████████████████| 163/163 [01:12<00:00,  2.26it/s, accuracy=99.7, loss=0.000328]\n"
     ]
    },
    {
     "name": "stdout",
     "output_type": "stream",
     "text": [
      "Validation Accuracy: 100.0%\n"
     ]
    },
    {
     "name": "stderr",
     "output_type": "stream",
     "text": [
      "Epoch [85/100]: 100%|██████████████████████████████████| 163/163 [01:12<00:00,  2.26it/s, accuracy=99.8, loss=0.000216]\n"
     ]
    },
    {
     "name": "stdout",
     "output_type": "stream",
     "text": [
      "Validation Accuracy: 93.75%\n"
     ]
    },
    {
     "name": "stderr",
     "output_type": "stream",
     "text": [
      "Epoch [86/100]: 100%|████████████████████████████████████| 163/163 [01:12<00:00,  2.25it/s, accuracy=99.9, loss=8.2e-5]\n"
     ]
    },
    {
     "name": "stdout",
     "output_type": "stream",
     "text": [
      "Validation Accuracy: 100.0%\n"
     ]
    },
    {
     "name": "stderr",
     "output_type": "stream",
     "text": [
      "Epoch [87/100]: 100%|████████████████████████████████████| 163/163 [01:11<00:00,  2.27it/s, accuracy=100, loss=2.22e-5]\n"
     ]
    },
    {
     "name": "stdout",
     "output_type": "stream",
     "text": [
      "Validation Accuracy: 93.75%\n"
     ]
    },
    {
     "name": "stderr",
     "output_type": "stream",
     "text": [
      "Epoch [88/100]: 100%|████████████████████████████████████| 163/163 [01:12<00:00,  2.26it/s, accuracy=100, loss=1.33e-5]\n"
     ]
    },
    {
     "name": "stdout",
     "output_type": "stream",
     "text": [
      "Validation Accuracy: 93.75%\n"
     ]
    },
    {
     "name": "stderr",
     "output_type": "stream",
     "text": [
      "Epoch [89/100]: 100%|████████████████████████████████████| 163/163 [01:12<00:00,  2.26it/s, accuracy=100, loss=1.52e-5]\n"
     ]
    },
    {
     "name": "stdout",
     "output_type": "stream",
     "text": [
      "Validation Accuracy: 93.75%\n"
     ]
    },
    {
     "name": "stderr",
     "output_type": "stream",
     "text": [
      "Epoch [90/100]: 100%|████████████████████████████████████| 163/163 [01:12<00:00,  2.26it/s, accuracy=100, loss=2.29e-5]\n"
     ]
    },
    {
     "name": "stdout",
     "output_type": "stream",
     "text": [
      "Validation Accuracy: 93.75%\n"
     ]
    },
    {
     "name": "stderr",
     "output_type": "stream",
     "text": [
      "Epoch [91/100]: 100%|████████████████████████████████████| 163/163 [01:11<00:00,  2.26it/s, accuracy=100, loss=1.42e-5]\n"
     ]
    },
    {
     "name": "stdout",
     "output_type": "stream",
     "text": [
      "Validation Accuracy: 93.75%\n"
     ]
    },
    {
     "name": "stderr",
     "output_type": "stream",
     "text": [
      "Epoch [92/100]: 100%|████████████████████████████████████| 163/163 [01:12<00:00,  2.26it/s, accuracy=100, loss=6.34e-6]\n"
     ]
    },
    {
     "name": "stdout",
     "output_type": "stream",
     "text": [
      "Validation Accuracy: 93.75%\n"
     ]
    },
    {
     "name": "stderr",
     "output_type": "stream",
     "text": [
      "Epoch [93/100]: 100%|████████████████████████████████████| 163/163 [01:11<00:00,  2.27it/s, accuracy=100, loss=5.02e-6]\n"
     ]
    },
    {
     "name": "stdout",
     "output_type": "stream",
     "text": [
      "Validation Accuracy: 93.75%\n"
     ]
    },
    {
     "name": "stderr",
     "output_type": "stream",
     "text": [
      "Epoch [94/100]: 100%|████████████████████████████████████| 163/163 [01:11<00:00,  2.26it/s, accuracy=100, loss=4.19e-6]\n"
     ]
    },
    {
     "name": "stdout",
     "output_type": "stream",
     "text": [
      "Validation Accuracy: 93.75%\n"
     ]
    },
    {
     "name": "stderr",
     "output_type": "stream",
     "text": [
      "Epoch [95/100]: 100%|████████████████████████████████████| 163/163 [01:12<00:00,  2.26it/s, accuracy=100, loss=3.82e-6]\n"
     ]
    },
    {
     "name": "stdout",
     "output_type": "stream",
     "text": [
      "Validation Accuracy: 93.75%\n"
     ]
    },
    {
     "name": "stderr",
     "output_type": "stream",
     "text": [
      "Epoch [96/100]: 100%|████████████████████████████████████| 163/163 [01:12<00:00,  2.26it/s, accuracy=100, loss=3.17e-6]\n"
     ]
    },
    {
     "name": "stdout",
     "output_type": "stream",
     "text": [
      "Validation Accuracy: 93.75%\n"
     ]
    },
    {
     "name": "stderr",
     "output_type": "stream",
     "text": [
      "Epoch [97/100]: 100%|█████████████████████████████████████| 163/163 [01:12<00:00,  2.26it/s, accuracy=100, loss=2.9e-6]\n"
     ]
    },
    {
     "name": "stdout",
     "output_type": "stream",
     "text": [
      "Validation Accuracy: 93.75%\n"
     ]
    },
    {
     "name": "stderr",
     "output_type": "stream",
     "text": [
      "Epoch [98/100]: 100%|████████████████████████████████████| 163/163 [01:12<00:00,  2.26it/s, accuracy=100, loss=2.66e-6]\n"
     ]
    },
    {
     "name": "stdout",
     "output_type": "stream",
     "text": [
      "Validation Accuracy: 93.75%\n"
     ]
    },
    {
     "name": "stderr",
     "output_type": "stream",
     "text": [
      "Epoch [99/100]: 100%|████████████████████████████████████| 163/163 [01:12<00:00,  2.26it/s, accuracy=100, loss=2.39e-6]\n"
     ]
    },
    {
     "name": "stdout",
     "output_type": "stream",
     "text": [
      "Validation Accuracy: 93.75%\n"
     ]
    },
    {
     "name": "stderr",
     "output_type": "stream",
     "text": [
      "Epoch [100/100]: 100%|███████████████████████████████████| 163/163 [01:12<00:00,  2.25it/s, accuracy=100, loss=2.18e-6]\n"
     ]
    },
    {
     "name": "stdout",
     "output_type": "stream",
     "text": [
      "Validation Accuracy: 93.75%\n"
     ]
    }
   ],
   "source": [
    "# 設定損失函數和優化器\n",
    "criterion = nn.CrossEntropyLoss()\n",
    "# 使用Adam優化器\n",
    "optimizer = torch.optim.Adam(model.parameters(), lr=0.001)\n",
    "\n",
    "# 設定epoch數量\n",
    "num_epochs = 100\n",
    "\n",
    "# 準備記錄損失和準確率\n",
    "train_losses = []  # 用於儲存每個epoch的訓練損失\n",
    "val_losses = []    # 用於儲存每個epoch的驗證損失\n",
    "val_accuracies = []  # 用於儲存每個epoch的驗證準確率\n",
    "\n",
    "# 訓練模型\n",
    "for epoch in range(num_epochs):\n",
    "    model.train()  # 設定模型為訓練模式\n",
    "    running_loss = 0.0 # 用於累積訓練損失\n",
    "    train_correct = 0 # 用於累積訓練準確率\n",
    "    train_total = 0  # 用於累積訓練資料的總數\n",
    "\n",
    "    # 使用tqdm進度條展示訓練進度\n",
    "    train_loop = tqdm(train_loader, position=0, leave=True) # 建立一個用於訓練的迴圈\n",
    "    for images, labels in train_loop: # 迭代訓練資料集\n",
    "        images, labels = images.to(device), labels.to(device)  # 將資料移到GPU上\n",
    "\n",
    "        # 前向傳播\n",
    "        outputs = model(images)\n",
    "        loss = criterion(outputs, labels)  # 計算損失\n",
    "\n",
    "        # 反向傳播和優化\n",
    "        optimizer.zero_grad()\n",
    "        loss.backward() # 計算梯度\n",
    "        optimizer.step() # 更新權重\n",
    "\n",
    "        running_loss += loss.item() # 累積訓練損失\n",
    "        _, predicted = torch.max(outputs.data, 1) # 預測類別\n",
    "        train_total += labels.size(0) # 累積訓練資料的總數\n",
    "        train_correct += (predicted == labels).sum().item() # 累積訓練準確率\n",
    "\n",
    "        # 更新進度條的顯示\n",
    "        train_loop.set_description(f'Epoch [{epoch+1}/{num_epochs}]')\n",
    "        # 顯示當前的訓練損失和準確率\n",
    "        train_loop.set_postfix(loss=running_loss/train_total, accuracy=100. * train_correct / train_total)\n",
    "\n",
    "    # 計算本輪的平均訓練損失\n",
    "    train_losses.append(running_loss / len(train_loader))\n",
    "    # 計算本輪的平均訓練準確率\n",
    "    train_accuracy = 100. * train_correct / train_total\n",
    "\n",
    "    # 驗證階段\n",
    "    model.eval()  # 設定模型為評估模式\n",
    "    val_running_loss = 0.0 # 用於累積驗證損失\n",
    "    val_correct = 0 # 用於累積驗證準確率\n",
    "    val_total = 0 # 用於累積驗證資料的總數\n",
    "    with torch.no_grad(): # 不計算梯度\n",
    "        for images, labels in val_loader: # 迭代驗證資料集\n",
    "            images, labels = images.to(device), labels.to(device) # 將資料移到GPU上\n",
    "            outputs = model(images) # 前向傳播\n",
    "            loss = criterion(outputs, labels) # 計算損失\n",
    "            val_running_loss += loss.item() # 累積驗證損失\n",
    "            _, predicted = torch.max(outputs.data, 1) # 預測類別\n",
    "            val_total += labels.size(0) # 累積驗證資料的總數\n",
    "            val_correct += (predicted == labels).sum().item() # 累積驗證準確率\n",
    "\n",
    "    # 計算本輪的平均驗證損失\n",
    "    val_losses.append(val_running_loss / len(val_loader))\n",
    "    # 計算本輪的平均驗證準確率\n",
    "    val_accuracy = 100 * val_correct / val_total\n",
    "    # 紀錄本輪的驗證準確率\n",
    "    val_accuracies.append(val_accuracy)\n",
    "\n",
    "    # 顯示本輪的訓練和驗證損失以及驗證準確率\n",
    "    print(f'Validation Accuracy: {val_accuracy}%')\n",
    "\n",
    "# 儲存訓練好的模型參數\n",
    "torch.save(model.state_dict(), 'pneumonia_model.pth')\n"
   ]
  },
  {
   "cell_type": "markdown",
   "metadata": {},
   "source": [
    "# 可視化訓練結果"
   ]
  },
  {
   "cell_type": "code",
   "execution_count": 9,
   "metadata": {},
   "outputs": [
    {
     "data": {
      "image/png": "[encoded data removed]",
      "text/plain": [
       "<Figure size 1200x500 with 2 Axes>"
      ]
     },
     "metadata": {},
     "output_type": "display_data"
    }
   ],
   "source": [
    "# 可視化訓練和驗證損失\n",
    "plt.figure(figsize=(12, 5)) # 設定圖形大小\n",
    "plt.subplot(1, 2, 1) # 建立子圖形1\n",
    "plt.plot(train_losses, label='Training Loss') # 繪製訓練損失\n",
    "plt.plot(val_losses, label='Validation Loss') # 繪製驗證損失\n",
    "plt.title('Training and Validation Loss') # 設定圖形標題\n",
    "plt.xlabel('Epoch') # 設定x軸標籤\n",
    "plt.ylabel('Loss') # 設定y軸標籤\n",
    "plt.legend() # 顯示圖例\n",
    "\n",
    "# 可視化驗證準確率\n",
    "plt.subplot(1, 2, 2) # 建立子圖形2\n",
    "plt.plot(val_accuracies, label='Validation Accuracy') # 繪製驗證準確率\n",
    "plt.title('Validation Accuracy') # 設定圖形標題\n",
    "plt.xlabel('Epoch') # 設定x軸標籤\n",
    "plt.ylabel('Accuracy') # 設定y軸標籤\n",
    "plt.legend() # 顯示圖例\n",
    "\n",
    "plt.show() # 顯示圖形"
   ]
  },
  {
   "cell_type": "markdown",
   "metadata": {},
   "source": [
    "# 混淆矩陣、靈敏度和特異度"
   ]
  },
  {
   "cell_type": "code",
   "execution_count": 10,
   "metadata": {},
   "outputs": [
    {
     "data": {
      "image/png": "[encoded data removed]",
      "text/plain": [
       "<Figure size 640x480 with 2 Axes>"
      ]
     },
     "metadata": {},
     "output_type": "display_data"
    },
    {
     "name": "stdout",
     "output_type": "stream",
     "text": [
      "Sensitivity: 0.9974358974358974\n",
      "Specificity: 0.25213675213675213\n"
     ]
    }
   ],
   "source": [
    "model.eval() # 設定模型為評估模式\n",
    "y_true = [] # 用於儲存真實標籤\n",
    "y_pred = [] # 用於儲存預測標籤\n",
    "\n",
    "# 不計算梯度\n",
    "with torch.no_grad():\n",
    "    for images, labels in test_loader: # 迭代測試資料集\n",
    "        images, labels = images.to(device), labels.to(device) # 將資料移到GPU上\n",
    "        outputs = model(images) # 前向傳播\n",
    "        _, predicted = torch.max(outputs.data, 1) # 預測類別\n",
    "        y_true.extend(labels.cpu().numpy()) # 儲存真實標籤\n",
    "        y_pred.extend(predicted.cpu().numpy()) # 儲存預測標籤\n",
    "\n",
    "# 計算混淆矩陣\n",
    "conf_matrix = confusion_matrix(y_true, y_pred)\n",
    "\n",
    "# 計算靈敏度和特異度\n",
    "tn, fp, fn, tp = conf_matrix.ravel()\n",
    "sensitivity = tp / (tp + fn) # 計算靈敏度\n",
    "specificity = tn / (tn + fp) # 計算特異度\n",
    "\n",
    "# 可視化混淆矩陣\n",
    "sns.heatmap(conf_matrix, annot=True, fmt='d') # 繪製混淆矩陣\n",
    "plt.title('Confusion Matrix') # 設定圖形標題\n",
    "plt.ylabel('True Label') # 設定y軸標籤\n",
    "plt.xlabel('Predicted Label') # 設定x軸標籤\n",
    "plt.show() # 顯示圖形\n",
    "\n",
    "print(f'Sensitivity: {sensitivity}') # 顯示靈敏度\n",
    "print(f'Specificity: {specificity}') # 顯示特異度"
   ]
  },
  {
   "cell_type": "markdown",
   "metadata": {},
   "source": [
    "# AUC曲線"
   ]
  },
  {
   "cell_type": "code",
   "execution_count": 11,
   "metadata": {},
   "outputs": [
    {
     "data": {
      "image/png": "[encoded data removed]",
      "text/plain": [
       "<Figure size 640x480 with 1 Axes>"
      ]
     },
     "metadata": {},
     "output_type": "display_data"
    }
   ],
   "source": [
    "# 模型評估模式\n",
    "model.eval()\n",
    "\n",
    "# 儲存所有標籤和模型預測的機率\n",
    "all_labels = []\n",
    "# 由於模型輸出的是對數機率，因此需要使用softmax函數轉換為機率\n",
    "all_probs = []\n",
    "\n",
    "# 不計算梯度\n",
    "with torch.no_grad():\n",
    "    for images, labels in test_loader: # 迭代測試資料集\n",
    "        images, labels = images.to(device), labels.to(device) # 將資料移到GPU上\n",
    "        \n",
    "        # 取得模型的預測機率\n",
    "        outputs = model(images)\n",
    "        probabilities = torch.nn.functional.softmax(outputs, dim=1) # 使用softmax函數轉換為機率\n",
    "        \n",
    "        all_probs.extend(probabilities.cpu().numpy()) # 儲存預測機率\n",
    "        all_labels.extend(labels.cpu().numpy()) # 儲存標籤\n",
    "\n",
    "# 計算每個類別的機率\n",
    "all_probs = np.array(all_probs)\n",
    "# 由於是二分類，取第一個類別的機率\n",
    "all_labels = np.array(all_labels)\n",
    "\n",
    "# 由於是二分類，取第一個類別的機率\n",
    "# 注意：如果您的類別標籤不是 {0, 1}，則需要相應調整\n",
    "prob_of_pos_class = all_probs[:, 1]\n",
    "\n",
    "# 計算 ROC 曲線\n",
    "fpr, tpr, thresholds = roc_curve(all_labels, prob_of_pos_class, pos_label=1)\n",
    "\n",
    "# 計算 AUC\n",
    "roc_auc = auc(fpr, tpr)\n",
    "\n",
    "# 繪製 ROC 曲線\n",
    "plt.figure() # 建立圖形\n",
    "lw = 2 # 設定線寬\n",
    "plt.plot(fpr, tpr, color='darkorange', lw=lw, label='ROC curve (area = %0.2f)' % roc_auc) # 繪製 ROC 曲線\n",
    "plt.plot([0, 1], [0, 1], color='navy', lw=lw, linestyle='--') # 繪製對角線\n",
    "plt.xlim([0.0, 1.0]) # 設定x軸範圍\n",
    "plt.ylim([0.0, 1.05]) # 設定y軸範圍\n",
    "plt.xlabel('False Positive Rate') # 設定x軸標籤\n",
    "plt.ylabel('True Positive Rate') # 設定y軸標籤\n",
    "plt.title('Receiver operating characteristic example') # 設定圖形標題\n",
    "plt.legend(loc=\"lower right\") # 顯示圖例\n",
    "plt.show() # 顯示圖形\n"
   ]
  },
  {
   "cell_type": "markdown",
   "metadata": {},
   "source": [
    "# F1 score"
   ]
  },
  {
   "cell_type": "code",
   "execution_count": 12,
   "metadata": {},
   "outputs": [
    {
     "name": "stdout",
     "output_type": "stream",
     "text": [
      "              precision    recall  f1-score     support\n",
      "0              0.983333  0.252137  0.401361  234.000000\n",
      "1              0.689716  0.997436  0.815514  390.000000\n",
      "accuracy       0.717949  0.717949  0.717949    0.717949\n",
      "macro avg      0.836525  0.624786  0.608437  624.000000\n",
      "weighted avg   0.799823  0.717949  0.660206  624.000000\n"
     ]
    }
   ],
   "source": [
    "# 確保模型處於評估模式\n",
    "model.eval()\n",
    "\n",
    "# 儲存預測和真實標籤\n",
    "all_preds = []\n",
    "all_labels = []\n",
    "\n",
    "# 無需計算梯度\n",
    "with torch.no_grad():\n",
    "    for images, labels in test_loader: # 迭代測試資料集\n",
    "        images, labels = images.to(device), labels.to(device) # 將資料移到GPU上\n",
    "\n",
    "        # 取得模型預測\n",
    "        outputs = model(images)\n",
    "        _, predicted = torch.max(outputs, 1) # 預測類別\n",
    "\n",
    "        # 收集預測和真實標籤\n",
    "        all_preds.extend(predicted.cpu().numpy())\n",
    "        all_labels.extend(labels.cpu().numpy())\n",
    "\n",
    "# 計算分類報告\n",
    "report = classification_report(all_labels, all_preds, output_dict=True)\n",
    "\n",
    "# 轉換為 DataFrame\n",
    "report_df = pd.DataFrame(report).transpose()\n",
    "\n",
    "# 將分類報告以文字表格形式顯示\n",
    "print(report_df)\n"
   ]
  },
  {
   "cell_type": "code",
   "execution_count": null,
   "metadata": {},
   "outputs": [],
   "source": []
  }
 ],
 "metadata": {
  "kernelspec": {
   "display_name": "Python 3 (ipykernel)",
   "language": "python",
   "name": "python3"
  },
  "language_info": {
   "codemirror_mode": {
    "name": "ipython",
    "version": 3
   },
   "file_extension": ".py",
   "mimetype": "text/x-python",
   "name": "python",
   "nbconvert_exporter": "python",
   "pygments_lexer": "ipython3",
   "version": "3.9.7"
  }
 },
 "nbformat": 4,
 "nbformat_minor": 4
}
