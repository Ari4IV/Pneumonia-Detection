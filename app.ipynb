{
 "cells": [
  {
   "cell_type": "code",
   "execution_count": 1,
   "metadata": {},
   "outputs": [],
   "source": [
    "import os\n",
    "import gradio as gr\n",
    "import torch\n",
    "import torch.nn as nn\n",
    "import torch.nn.functional as F\n",
    "import torchvision.transforms as transforms\n",
    "from PIL import Image"
   ]
  },
  {
   "cell_type": "markdown",
   "metadata": {},
   "source": [
    "# 載入模型\n"
   ]
  },
  {
   "cell_type": "code",
   "execution_count": 2,
   "metadata": {},
   "outputs": [
    {
     "data": {
      "text/plain": [
       "CNN(\n",
       "  (conv1): Conv2d(1, 32, kernel_size=(3, 3), stride=(1, 1), padding=(1, 1))\n",
       "  (conv2): Conv2d(32, 64, kernel_size=(3, 3), stride=(1, 1), padding=(1, 1))\n",
       "  (conv3): Conv2d(64, 128, kernel_size=(3, 3), stride=(1, 1), padding=(1, 1))\n",
       "  (pool): MaxPool2d(kernel_size=2, stride=2, padding=0, dilation=1, ceil_mode=False)\n",
       "  (adap_pool): AdaptiveAvgPool2d(output_size=(1, 1))\n",
       "  (fc1): Linear(in_features=128, out_features=512, bias=True)\n",
       "  (fc2): Linear(in_features=512, out_features=2, bias=True)\n",
       ")"
      ]
     },
     "execution_count": 2,
     "metadata": {},
     "output_type": "execute_result"
    }
   ],
   "source": [
    "# 定義 CNN 模型結構\n",
    "class CNN(nn.Module):\n",
    "    def __init__(self): # 定義初始化方法\n",
    "        super(CNN, self).__init__() # 繼承父類別的初始化方法\n",
    "        self.conv1 = nn.Conv2d(1, 32, kernel_size=3, padding=1)  # 第一個卷積層\n",
    "        self.conv2 = nn.Conv2d(32, 64, kernel_size=3, padding=1) # 第二個卷積層\n",
    "        self.conv3 = nn.Conv2d(64, 128, kernel_size=3, padding=1) # 第三個卷積層\n",
    "        self.pool = nn.MaxPool2d(2, 2)                            # 池化層\n",
    "        self.adap_pool = nn.AdaptiveAvgPool2d((1, 1))             # 自適應池化層\n",
    "        self.fc1 = nn.Linear(128, 512)                            # 全連接層\n",
    "        self.fc2 = nn.Linear(512, 2)                              # 輸出層\n",
    "\n",
    "    # 定義向前傳播函數，x為輸入的影像張量\n",
    "    def forward(self, x):\n",
    "        x = F.relu(self.conv1(x)) # 使用ReLU激活函數\n",
    "        x = self.pool(x)         # 池化\n",
    "        x = F.relu(self.conv2(x)) # 使用ReLU激活函數\n",
    "        x = self.pool(x)        # 池化\n",
    "        x = F.relu(self.conv3(x)) # 使用ReLU激活函數\n",
    "        x = self.pool(x)       # 池化\n",
    "        x = self.adap_pool(x)  # 自適應池化層將任何尺寸的特徵圖調整為1x1\n",
    "        x = x.view(-1, 128)    # 攤平特徵圖\n",
    "        x = F.relu(self.fc1(x)) # 使用ReLU激活函數\n",
    "        x = self.fc2(x)        # 輸出層\n",
    "        return x              # 返回輸出\n",
    "\n",
    "# 載入模型\n",
    "model = CNN()\n",
    "model.load_state_dict(torch.load('pneumonia_model.pth', map_location=torch.device('cpu')))\n",
    "model.eval()"
   ]
  },
  {
   "cell_type": "markdown",
   "metadata": {},
   "source": [
    "# 定義影像處理轉換\n"
   ]
  },
  {
   "cell_type": "code",
   "execution_count": 3,
   "metadata": {},
   "outputs": [],
   "source": [
    "transform = transforms.Compose([\n",
    "    transforms.Resize((256, 256)),\n",
    "    transforms.Grayscale(num_output_channels=1),\n",
    "    transforms.ToTensor(),\n",
    "    transforms.Normalize(mean=[0.485], std=[0.229]),\n",
    "])\n"
   ]
  },
  {
   "cell_type": "markdown",
   "metadata": {},
   "source": [
    "# 定義預測函數"
   ]
  },
  {
   "cell_type": "code",
   "execution_count": 4,
   "metadata": {},
   "outputs": [],
   "source": [
    "def predict(image):\n",
    "    image = Image.fromarray(image.astype('uint8'), 'RGB')\n",
    "    image = transform(image).unsqueeze(0)\n",
    "    with torch.no_grad():\n",
    "        outputs = model(image)\n",
    "        probabilities = torch.nn.functional.softmax(outputs, dim=1)\n",
    "        top_p, top_class = probabilities.topk(1, dim=1)\n",
    "        predicted_class = top_class[0][0].item()\n",
    "        confidence = top_p[0][0].item()\n",
    "\n",
    "    label = '正常' if predicted_class == 0 else '肺炎'\n",
    "    return f'{label}, 信心度: {confidence*100:.2f}%'\n"
   ]
  },
  {
   "cell_type": "markdown",
   "metadata": {},
   "source": [
    "# 啟動界面\n"
   ]
  },
  {
   "cell_type": "code",
   "execution_count": 5,
   "metadata": {},
   "outputs": [
    {
     "name": "stderr",
     "output_type": "stream",
     "text": [
      "C:\\Users\\Alan\\AppData\\Local\\Temp\\ipykernel_18364\\1298634196.py:19: GradioDeprecationWarning: Usage of gradio.inputs is deprecated, and will not be supported in the future, please import your component from gradio.components\n",
      "  inputs=gr.inputs.Image(shape=(256, 256)),\n",
      "C:\\Users\\Alan\\AppData\\Local\\Temp\\ipykernel_18364\\1298634196.py:19: GradioDeprecationWarning: `optional` parameter is deprecated, and it has no effect\n",
      "  inputs=gr.inputs.Image(shape=(256, 256)),\n"
     ]
    },
    {
     "name": "stdout",
     "output_type": "stream",
     "text": [
      "Running on local URL:  http://127.0.0.1:7860\n",
      "Running on public URL: https://ca00c46730e9b04a53.gradio.live\n",
      "\n",
      "This share link expires in 72 hours. For free permanent hosting and GPU upgrades, run `gradio deploy` from Terminal to deploy to Spaces (https://huggingface.co/spaces)\n"
     ]
    },
    {
     "data": {
      "text/html": [
       "<div><iframe src=\"https://ca00c46730e9b04a53.gradio.live\" width=\"100%\" height=\"500\" allow=\"autoplay; camera; microphone; clipboard-read; clipboard-write;\" frameborder=\"0\" allowfullscreen></iframe></div>"
      ],
      "text/plain": [
       "<IPython.core.display.HTML object>"
      ]
     },
     "metadata": {},
     "output_type": "display_data"
    },
    {
     "data": {
      "text/plain": []
     },
     "execution_count": 5,
     "metadata": {},
     "output_type": "execute_result"
    }
   ],
   "source": [
    "# 指定測試數據集中的 NORMAL 和 PNEUMONIA 資料夾路徑\n",
    "test_normal_path = 'chest_xray/test/NORMAL'\n",
    "test_pneumonia_path = 'chest_xray/test/PNEUMONIA'\n",
    "\n",
    "# 選擇每個資料夾中的前十個圖片作為示例\n",
    "example_normals = [os.path.join(test_normal_path, fname) for fname in os.listdir(test_normal_path)[:10]]\n",
    "example_pneumonias = [os.path.join(test_pneumonia_path, fname) for fname in os.listdir(test_pneumonia_path)[:10]]\n",
    "\n",
    "# 確保所有選定的圖片路徑都存在\n",
    "for path in example_normals + example_pneumonias:\n",
    "    if not os.path.exists(path):\n",
    "        raise ValueError(f\"檔案不存在：{path}\")\n",
    "\n",
    "# 將所有示例圖片的路徑合併到一個列表中\n",
    "all_examples = example_normals + example_pneumonias\n",
    "\n",
    "# Gradio 界面\n",
    "iface = gr.Interface(fn=predict, \n",
    "                     inputs=gr.inputs.Image(shape=(256, 256)), \n",
    "                     outputs='text', \n",
    "                     title='肺炎檢測模型',\n",
    "                     examples=all_examples)\n",
    "iface.launch(share=True)"
   ]
  }
 ],
 "metadata": {
  "kernelspec": {
   "display_name": "Python 3 (ipykernel)",
   "language": "python",
   "name": "python3"
  },
  "language_info": {
   "codemirror_mode": {
    "name": "ipython",
    "version": 3
   },
   "file_extension": ".py",
   "mimetype": "text/x-python",
   "name": "python",
   "nbconvert_exporter": "python",
   "pygments_lexer": "ipython3",
   "version": "3.9.0"
  }
 },
 "nbformat": 4,
 "nbformat_minor": 4
}
